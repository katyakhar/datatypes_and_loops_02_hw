{
 "cells": [
  {
   "cell_type": "code",
   "execution_count": null,
   "metadata": {},
   "outputs": [],
   "source": [
    "# Задание 1\n",
    "\n",
    "ids = {'user1': [213, 213, 213, 15, 213], \n",
    "       'user2': [54, 54, 119, 119, 119], \n",
    "       'user3': [213, 98, 98, 35]}\n",
    "\n",
    "unique_ids = set()\n",
    "ids_list = list(ids.values())\n",
    "\n",
    "for number in ids_list:\n",
    "    unique_ids.update(number)\n",
    "print(unique_ids)"
   ]
  },
  {
   "cell_type": "code",
   "execution_count": null,
   "metadata": {},
   "outputs": [],
   "source": [
    "# Задание 2\n",
    "\n",
    "queries = [\n",
    "    'смотреть сериалы онлайн',\n",
    "    'новости спорта',\n",
    "    'афиша кино',\n",
    "    'курс доллара',\n",
    "    'сериалы этим летом',\n",
    "    'курс по питону',\n",
    "    'сериалы про спорт',\n",
    "]\n",
    "\n",
    "result = {\n",
    "    'two_words': 0,\n",
    "    'three_words': 0\n",
    "}\n",
    "\n",
    "for i in queries:\n",
    "    queries_splitted = len(i.split())\n",
    "    if queries_splitted == 2:\n",
    "        result['two_words'] += 1\n",
    "    elif queries_splitted == 3:\n",
    "        result['three_words'] += 1\n",
    "        \n",
    "x = round(result['two_words'] * 100 / len(queries), 2)\n",
    "y = round(result['three_words'] * 100 / len(queries), 2)\n",
    "\n",
    "\n",
    "print(f'Поисковых запросов, содержащих 2 слов(а): {x}%')\n",
    "print(f'Поисковых запросов, содержащих 3 слов(а): {y}%')"
   ]
  },
  {
   "cell_type": "code",
   "execution_count": null,
   "metadata": {},
   "outputs": [],
   "source": [
    "# Задание 3\n",
    "\n",
    "results = {\n",
    "    'vk': {'revenue': 103, 'cost': 98},\n",
    "    'yandex': {'revenue': 179, 'cost': 153},\n",
    "    'facebook': {'revenue': 103, 'cost': 110},\n",
    "    'adwords': {'revenue': 35, 'cost': 34},\n",
    "    'twitter': {'revenue': 11, 'cost': 24},\n",
    "}\n",
    "\n",
    "for i in results.values():\n",
    "     i['ROI']  = round((i['revenue'] / i['cost'] - 1) * 100, 2)\n",
    "results "
   ]
  },
  {
   "cell_type": "code",
   "execution_count": null,
   "metadata": {},
   "outputs": [],
   "source": [
    "# Задание 4\n",
    "\n",
    "stats = {'facebook': 55, 'yandex': 115, 'vk': 120, 'google': 99, 'email': 42, 'ok': 98}\n",
    "\n",
    "maximum_volume = max(stats, key = stats.get)\n",
    "print(f'Максимальный объем продаж на рекламном канале: {maximum_volume}')"
   ]
  }
 ],
 "metadata": {
  "kernelspec": {
   "display_name": "Python 3",
   "language": "python",
   "name": "python3"
  },
  "language_info": {
   "codemirror_mode": {
    "name": "ipython",
    "version": 3
   },
   "file_extension": ".py",
   "mimetype": "text/x-python",
   "name": "python",
   "nbconvert_exporter": "python",
   "pygments_lexer": "ipython3",
   "version": "3.8.5"
  }
 },
 "nbformat": 4,
 "nbformat_minor": 4
}
